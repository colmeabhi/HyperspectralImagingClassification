{
 "cells": [
  {
   "cell_type": "code",
   "execution_count": 41,
   "metadata": {},
   "outputs": [],
   "source": [
    "# imported libraries\n",
    "\n",
    "from scipy.io import loadmat\n",
    "import pandas as pd\n",
    "from sklearn.tree import DecisionTreeClassifier\n",
    "import numpy as np\n",
    "from sklearn import preprocessing\n",
    "from sklearn.preprocessing import StandardScaler"
   ]
  },
  {
   "cell_type": "code",
   "execution_count": 23,
   "metadata": {},
   "outputs": [
    {
     "name": "stdout",
     "output_type": "stream",
     "text": [
      "10249\n",
      "10249\n"
     ]
    }
   ],
   "source": [
    "# Main code\n",
    "\n",
    "dataset_file = loadmat('C:\\\\Users\\\\ahirr\\\\Desktop\\\\Indian_pines_corrected.mat') \n",
    "gt_file = loadmat('C:\\\\Users\\\\ahirr\\\\Desktop\\\\Indian_pines_gt.mat')\n",
    "\n",
    "dataset = dataset_file[ 'indian_pines_corrected']\n",
    "gt = gt_file['indian_pines_gt']\n",
    "\n",
    "X = np.reshape(dataset, (21025,200)) # your way gives good accuracy\n",
    "y = gt.reshape(145*145,1)\n",
    "\n",
    "# Normalisation of data\n",
    "\n",
    "normalized_X =  preprocessing.normalize(X)\n",
    "\n",
    "# Remove the rows with 0 gt values\n",
    "\n",
    "zero_results_indexes = []\n",
    "for i in range(len(normalized_y)):\n",
    "    if(y[i] == 0):\n",
    "        zero_results_indexes.append(i)\n",
    "        \n",
    "y_del_zero, X_del_zero = np.delete(y, zero_results_indexes), np.delete(normalized_X, zero_results_indexes, axis = 0)\n",
    "\n",
    "print(len(X_del_zero))\n",
    "print(len(y_del_zero))"
   ]
  },
  {
   "cell_type": "code",
   "execution_count": 25,
   "metadata": {},
   "outputs": [],
   "source": [
    "# Train,Test Splitting of data\n",
    "\n",
    "from sklearn.model_selection import train_test_split\n",
    "\n",
    "X_trainset, X_testset, y_trainset, y_testset = train_test_split(X_del_zero, y_del_zero, test_size=0.3, random_state=3)"
   ]
  },
  {
   "cell_type": "code",
   "execution_count": 26,
   "metadata": {},
   "outputs": [
    {
     "name": "stdout",
     "output_type": "stream",
     "text": [
      "DecisionTreeClassifier(ccp_alpha=0.0, class_weight=None, criterion='entropy',\n",
      "                       max_depth=4, max_features=None, max_leaf_nodes=None,\n",
      "                       min_impurity_decrease=0.0, min_impurity_split=None,\n",
      "                       min_samples_leaf=1, min_samples_split=2,\n",
      "                       min_weight_fraction_leaf=0.0, presort='deprecated',\n",
      "                       random_state=None, splitter='best')\n"
     ]
    }
   ],
   "source": [
    "# Prediction Using decision tree Algo \n",
    "\n",
    "Clf_dt = DecisionTreeClassifier(criterion=\"entropy\", max_depth = 4)\n",
    "\n",
    "print(Clf_dt) # it shows the default parameters\n",
    "\n",
    "Clf_dt.fit(X_trainset,y_trainset)\n",
    "predTree = Clf_dt.predict(X_testset)"
   ]
  },
  {
   "cell_type": "code",
   "execution_count": 27,
   "metadata": {},
   "outputs": [
    {
     "name": "stdout",
     "output_type": "stream",
     "text": [
      "DecisionTrees's Accuracy:  0.6276422764227643\n"
     ]
    }
   ],
   "source": [
    "# Metrics and Accuracy\n",
    "\n",
    "from sklearn import metrics\n",
    "import matplotlib.pyplot as plt\n",
    "print(\"DecisionTrees's Accuracy: \", metrics.accuracy_score(y_testset, predTree))"
   ]
  },
  {
   "cell_type": "code",
   "execution_count": 49,
   "metadata": {},
   "outputs": [
    {
     "data": {
      "text/plain": [
       "array([[1.28389484e-10, 1.45253368e-03, 1.42010270e-01, 8.56167505e-01,\n",
       "        4.16302151e-07, 9.23035491e-09, 5.02218718e-11, 6.18274409e-11,\n",
       "        1.47668465e-04, 3.73688657e-06, 7.64560866e-05, 2.66998476e-06,\n",
       "        1.38724967e-04, 7.18052807e-10, 8.01699680e-09, 3.36336948e-10]])"
      ]
     },
     "execution_count": 49,
     "metadata": {},
     "output_type": "execute_result"
    }
   ],
   "source": [
    "scalar = StandardScaler()\n",
    "X_train = scalar.fit_transform(X_trainset)\n",
    "X_test = scalar.transform(X_testset)\n",
    "\n",
    "from sklearn.neural_network import MLPClassifier\n",
    "clf_mlp = MLPClassifier(hidden_layer_sizes=(100,150,100), max_iter = 300, activation = 'identity', learning_rate = 'constant').fit(X_train, y_trainset)\n",
    "clf_mlp.predict_proba(X_testset[:1])"
   ]
  },
  {
   "cell_type": "code",
   "execution_count": 48,
   "metadata": {},
   "outputs": [
    {
     "name": "stdout",
     "output_type": "stream",
     "text": [
      "accuracy with MLP:0.84\n"
     ]
    }
   ],
   "source": [
    "# Accuracy of the Mlp Classification\n",
    "\n",
    "print('accuracy with MLP:'+str(clf_mlp.score(X_test, y_testset)))"
   ]
  },
  {
   "cell_type": "code",
   "execution_count": null,
   "metadata": {},
   "outputs": [],
   "source": []
  }
 ],
 "metadata": {
  "kernelspec": {
   "display_name": "Python 3",
   "language": "python",
   "name": "python3"
  },
  "language_info": {
   "codemirror_mode": {
    "name": "ipython",
    "version": 3
   },
   "file_extension": ".py",
   "mimetype": "text/x-python",
   "name": "python",
   "nbconvert_exporter": "python",
   "pygments_lexer": "ipython3",
   "version": "3.7.1"
  }
 },
 "nbformat": 4,
 "nbformat_minor": 2
}
